{
  "nbformat": 4,
  "nbformat_minor": 0,
  "metadata": {
    "colab": {
      "private_outputs": true,
      "provenance": [],
      "gpuType": "T4",
      "cell_execution_strategy": "setup",
      "include_colab_link": true
    },
    "kernelspec": {
      "name": "python3",
      "display_name": "Python 3"
    },
    "language_info": {
      "name": "python"
    },
    "accelerator": "GPU"
  },
  "cells": [
    {
      "cell_type": "markdown",
      "metadata": {
        "id": "view-in-github",
        "colab_type": "text"
      },
      "source": [
        "<a href=\"https://colab.research.google.com/github/aicuai/Book-StartGuideSDXL/blob/main/Fooocus_onColab.ipynb\" target=\"_parent\"><img src=\"https://colab.research.google.com/assets/colab-badge.svg\" alt=\"Open In Colab\"/></a>"
      ]
    },
    {
      "cell_type": "markdown",
      "source": [
        "# Fooocus 日本語アニメ特化版 [j.aicu.ai/FoooC](https://j.aicu.ai/FoooC)\n",
        "\n",
        "Version 20240527\n",
        "\n",
        "このコードは midJourneyや nijiJourneyスタイルのカンタン高画質のAI画像生成が行える「Fooocus」をAICU Inc.が原作そのままに Google Colab (無料も一部可) を使って、日本語版で動くようにしたものです。\n",
        "\n",
        "配布等は原作のライセンスに従います。\n",
        "\n",
        "https://github.com/lllyasviel/Fooocus/blob/main/fooocus_colab.ipynb\n",
        "\n",
        "- [AICU社によるFooocus解説記事](https://corp.aicu.ai/hs-search-results?term=Fooocus)\n",
        "- [日本語化プロジェクトリポジトリ](https://github.com/aicuai/Fooocus/blob/ja/language/ja.json)\n",
        "- [このスクリプトを管理しているリポジトリ](https://github.com/aicuai/Fooocus/fooocus_colab.ipynb)\n",
        " - [旧repo](https://github.com/aicuai/Artist-Guide-for-SDXL/)\n",
        "\n",
        "\n",
        "☆なお日本語版翻訳にあたっては「**小学生でもお年寄りでもわかる日本語**」というコンセプトで翻訳しています。なぜなら中途半端なカタカナ英語でもわかる方や、CGの知識がある方々なら英語原作版を使えばよいからです。より多くの人々に Fooocus を使っていただきたい気持ちで翻訳しています。\n",
        "\n",
        "## 超初心者向け使い方\n",
        "\n",
        "ランタイムを実行「▶」を押してしばらくお待ち下さい。 https://....gradio.com のURLが表示されたらそれをクリックして別タブで遊べます。最大72時間有効ですが、途中で切断されたり止まったり、エラーが出た場合は「■」（停止）をしてもう一度「▶」を押してください。\n",
        "\n",
        "## 起動オプション\n",
        "\n",
        "このスクリプトではGUIで操作できるスイッチにしてあります。\n",
        "\n",
        "オリジナルの Fooocus には何故か指定ディレクトリに保存する機能がないのですが、このスクリプトでは Google Driveの マイドライブ直下「Fooocus-outputs」に保存されるようにしました。これでセッションが切れてもだいじょうぶ！\n",
        "\n",
        "- target_drive_dir: /content/gdrive/MyDrive/Fooocus-outputs\n",
        "- use_japanese: UIに日本語が表示されます。\n",
        "- model_type: anime\n",
        "- fixed_version: バージョンを書籍「画像生成AI Stable Diffusion スタートガイド」で紹介した [v2.3.1 (e2f9bcb)](https://github.com/lllyasviel/Fooocus/releases/tag/2.3.1) に固定して実行します\n",
        "\n",
        "\n",
        "## 無料版 Colab での動作について\n",
        "このColabはデフォルトでrefinerを無効にすることに注意してください。なぜならColab freeのリソースは比較的限られているからです(そして画像プロンプトのようないくつかの「大きな」機能はfree-tier Colabの切断を引き起こすかもしれません)。フリー版のColabでは、基本的なテキストから画像への変換が常に動作するようにしています。\n",
        "\n",
        "Image Prompt 「画像で指示」は 無料版 Google ColabT4 GPU では動作しない可能性があります。"
      ],
      "metadata": {
        "id": "xwciD8nyDILt"
      }
    },
    {
      "cell_type": "code",
      "execution_count": null,
      "metadata": {
        "id": "KZYJfKVuDCOM",
        "collapsed": true
      },
      "outputs": [],
      "source": [
        "import shutil\n",
        "from google.colab import drive\n",
        "import os\n",
        "\n",
        "# Google Driveをマウント\n",
        "drive.mount('/content/gdrive')\n",
        "\n",
        "target_drive_dir = \"/content/gdrive/MyDrive/Fooocus-outputs\"  # @param {type:\"string\"}\n",
        "target_local_dir = \"/content/Fooocus/outputs\"\n",
        "\n",
        "# ローカル(GDrive)出力ディレクトリを作成\n",
        "os.makedirs(target_local_dir, exist_ok=True)\n",
        "\n",
        "# シンボリックリンクの作成\n",
        "#if os.path.exists(target_drive_dir):\n",
        "#    if os.path.islink(target_drive_dir):\n",
        "#        os.unlink(target_drive_dir)\n",
        "\n",
        "#os.symlink(target_local_dir, target_drive_dir)\n",
        "\n",
        "# オプションの設定\n",
        "use_japanese = True  # @param {type:\"boolean\"}\n",
        "model_type = \"anime\"  # @param [\"default\", \"anime\"] {allow-input: true}\n",
        "fixed_version = True  # @param {type:\"boolean\"}\n",
        "\n",
        "# 必要なパッケージのインストール\n",
        "!pip install pygit2==1.12.2\n",
        "\n",
        "%cd /content\n",
        "\n",
        "if fixed_version:\n",
        "    if os.path.exists(\"Fooocus\"):\n",
        "        !rm -rf Fooocus\n",
        "    !git clone https://github.com/lllyasviel/Fooocus.git\n",
        "    %cd Fooocus\n",
        "    !git checkout e2f9bcb\n",
        "else:\n",
        "    !git clone https://github.com/lllyasviel/Fooocus.git\n",
        "    %cd Fooocus\n",
        "\n",
        "# 日本語パッチを追加\n",
        "if use_japanese:\n",
        "    ja_json_url = \"https://raw.githubusercontent.com/aicuai/Fooocus/ja/language/ja.json\"\n",
        "    ja_json_path = \"/content/Fooocus/language/ja.json\"\n",
        "    os.makedirs(os.path.dirname(ja_json_path), exist_ok=True)\n",
        "    !curl -L -o {ja_json_path} {ja_json_url}\n",
        "    print(f\"ja.json downloaded and saved to {ja_json_path}\")\n",
        "\n",
        "# アニメ版の設定ファイルのパッチ(最新版)を追加\n",
        "if model_type == \"anime\":\n",
        "    anime_json_url = \"https://raw.githubusercontent.com/aicuai/Fooocus/main/presets/anime.json\"\n",
        "    anime_json_path = \"/content/Fooocus/presets/anime.json\"\n",
        "    os.makedirs(os.path.dirname(anime_json_path), exist_ok=True)\n",
        "    !curl -L -o {anime_json_path} {anime_json_url}\n",
        "    print(f\"anime.json downloaded and saved to {anime_json_path}\")\n",
        "\n",
        "%cd /content/Fooocus\n",
        "\n",
        "# Fooocus JP Script Options\n",
        "if model_type == \"default\" and not use_japanese:\n",
        "    !python entry_with_update.py  --always-high-vram  --output-path {target_drive_dir} --share\n",
        "elif model_type == \"default\" and use_japanese:\n",
        "    !python entry_with_update.py  --always-high-vram  --output-path {target_drive_dir} --share --language ja\n",
        "elif model_type == \"anime\" and not use_japanese:\n",
        "    !python entry_with_update.py --preset anime --always-high-vram --output-path {target_drive_dir} --share\n",
        "elif model_type == \"anime\" and use_japanese:\n",
        "    !python entry_with_update.py --preset anime --always-high-vram --output-path {target_drive_dir} --share --language ja --api\n"
      ]
    }
  ]
}